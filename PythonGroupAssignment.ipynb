{
 "cells": [
  {
   "cell_type": "markdown",
   "metadata": {},
   "source": [
    "                                       Python End Term Assignment\n",
    "                                            Group No.17\n",
    "                                         Rehan Raza- D20024\n",
    "                                       Salonee Mahapatra-D20029"
   ]
  },
  {
   "cell_type": "code",
   "execution_count": null,
   "metadata": {},
   "outputs": [],
   "source": [
    "#Import Modules and Libraries\n",
    "\n",
    "import numpy as np\n",
    "import pandas as pd\n",
    "import matplotlib.pyplot as plt\n",
    "import seaborn as sns\n",
    "import os\n",
    "#import pylab\n",
    "%matplotlib inline\n",
    "\n",
    "#Enter file name and clean the file\n",
    "\n",
    "df = pd.read_csv(\"attrition.csv\")"
   ]
  },
  {
   "cell_type": "code",
   "execution_count": null,
   "metadata": {},
   "outputs": [],
   "source": [
    "df.head()"
   ]
  },
  {
   "cell_type": "code",
   "execution_count": null,
   "metadata": {},
   "outputs": [],
   "source": [
    "df.shape"
   ]
  },
  {
   "cell_type": "code",
   "execution_count": null,
   "metadata": {},
   "outputs": [],
   "source": [
    "df.dtypes"
   ]
  },
  {
   "cell_type": "markdown",
   "metadata": {},
   "source": [
    "df['Cylinders'] = df.Cylinders.astype(object)\n",
    "df['Model'] = df.Model.astype(object)"
   ]
  },
  {
   "cell_type": "markdown",
   "metadata": {},
   "source": [
    "#separated numerical & Categorical data from attrition\n",
    "\n",
    "numerical_data= df.select_dtypes(include=[np.number]).columns\n",
    "categorical_data=df.select_dtypes(exclude=[np.number]).columns"
   ]
  },
  {
   "cell_type": "code",
   "execution_count": null,
   "metadata": {},
   "outputs": [],
   "source": [
    "df['Attrition'] = df.Attrition.astype(object)\n",
    "df['EnvironmentSatisfaction'] = df.EnvironmentSatisfaction.astype(object)\n",
    "df['JobInvolvement'] = df.JobInvolvement.astype(object)\n",
    "df['JobSatisfaction'] = df.JobSatisfaction.astype(object)\n",
    "df['WorkLifeBalance'] = df.WorkLifeBalance.astype(object)\n",
    "df['JobLevel'] = df.JobLevel.astype(object)"
   ]
  },
  {
   "cell_type": "code",
   "execution_count": null,
   "metadata": {},
   "outputs": [],
   "source": [
    "df.dtypes"
   ]
  },
  {
   "cell_type": "markdown",
   "metadata": {},
   "source": [
    "## 1"
   ]
  },
  {
   "cell_type": "markdown",
   "metadata": {},
   "source": [
    "You will create a function named ‘Histogram’ which will take the entire dataset as input and  return the histograms for all the numerical variables in your dataset as .png files in your working  directory. Make sure that all the generated graphs have proper titles and axis labels. (10 marks) \n",
    "\n",
    "Histogram(data)  \n",
    "-> returns histograms for all numerical variables in data. \n"
   ]
  },
  {
   "cell_type": "code",
   "execution_count": null,
   "metadata": {},
   "outputs": [],
   "source": [
    "def histogram(data):\n",
    "    for i in df:                                           #the loop starts for every column in dataframe\n",
    "        if df[i].dtype == 'int64':                         #if the column is numerical type\n",
    "            plt.hist(df[i],color='green')                  #plot a histogram for the column\n",
    "            plt.title(i)                                   #provide title of the histogram as the column name\n",
    "            plt.xlabel(i)                                  #provide the x axis label of the histogram as the column name\n",
    "            plt.ylabel('count')                            #provide the y axis label of the histogram as 'count'  \n",
    "            plt.tight_layout()                             #automatically adjusts subplot params so that the subplot(s) fits in to the figure area\n",
    "            plt.savefig('histogram_{}.png'.format(i))      #saves the figure in present working directory\n",
    "            plt.show()                                     #opens an interactive window and displays the active image object (of the current column)"
   ]
  },
  {
   "cell_type": "code",
   "execution_count": null,
   "metadata": {},
   "outputs": [],
   "source": [
    "histogram(df)                                              #call the function and pass the dataset"
   ]
  },
  {
   "cell_type": "markdown",
   "metadata": {},
   "source": [
    "# 2"
   ]
  },
  {
   "cell_type": "markdown",
   "metadata": {},
   "source": [
    "Make an improvement on the function you have created in 1. Create a function names ‘Graphs’ which will take a dataset as input and return histograms and boxplots for all the numerical  variables and bar plots for all categorical variables. (10 marks) \n",
    "\n",
    "Graphs(data) \n",
    "\n",
    "-> returns histograms and boxplots for all numerical variables and  bar plot for all categorical variables in data.\n"
   ]
  },
  {
   "cell_type": "code",
   "execution_count": null,
   "metadata": {},
   "outputs": [],
   "source": [
    "def graphs(data):\n",
    "    \n",
    "    #divide the data as numerical and categorical\n",
    "    numerical_data= data.select_dtypes(include=[np.number]).columns             \n",
    "    categorical_data=data.select_dtypes(exclude=[np.number]).columns\n",
    "    \n",
    "    #plots graphs for numerical and categorical data in present working directory\n",
    "        \n",
    "    for i in numerical_data:                          #iterates through the dataframe columns for all numerical data\n",
    "        print(i)\n",
    "        plt.hist(data[i],color='green')\n",
    "        plt.title(i)\n",
    "        plt.xlabel(i)\n",
    "        plt.ylabel('count')\n",
    "        plt.tight_layout()                             #automatically adjusts subplot params so that the subplot(s) fits in to the figure area\n",
    "        plt.savefig('histogram_{}.png'.format(i))      #saves the figure in present working directory\n",
    "        plt.show()                                     #opens an interactive window and displays the active image object (of the current column)\n",
    "    \n",
    "    for j in numerical_data:\n",
    "        print(j)\n",
    "        plt.boxplot(data[j])\n",
    "        plt.title(j)\n",
    "        plt.xlabel(j)\n",
    "        plt.ylabel('count')\n",
    "        plt.tight_layout()                             #automatically adjusts subplot params so that the subplot(s) fits in to the figure area\n",
    "        plt.savefig('boxplot_{}.png'.format(j))        #saves the figure in present working directory\n",
    "        plt.show()                                     #opens an interactive window and displays the active image object (of the current column) \n",
    "    \n",
    "    for k in categorical_data:                         #iterates through the dataframe columns for all the categorical data\n",
    "        print(k)\n",
    "        sns.countplot(data[k])\n",
    "        plt.tight_layout()                             #automatically adjusts subplot params so that the subplot(s) fits in to the figure area\n",
    "        plt.savefig('barplot_{}.png'.format(k))        #saves the figure in present working directory\n",
    "        plt.show()                                     #opens an interactive window and displays the active image object (of the current column)\n",
    "        \n"
   ]
  },
  {
   "cell_type": "code",
   "execution_count": null,
   "metadata": {},
   "outputs": [],
   "source": [
    "graphs(df)"
   ]
  },
  {
   "cell_type": "markdown",
   "metadata": {},
   "source": [
    "# 3\n",
    "\n",
    "Often, we are not required to plot the graphs for all the variables in our dataset. Add an additional  argument to the function in 2 named ‘var’. This will take a list containing the variable index and  return the graphs for only those variables. By default, (i.e. if the list of variable index is not  provided), then it must return the required graphs for all the variables in data. (10 marks) \n",
    "\n",
    "Example:  \n",
    "\n",
    "Graphs(data, var=c(1,3,4)) \n",
    "\n",
    "-> Will generate the graphics for only the variables 1,3 & 4 in the  data.\n"
   ]
  },
  {
   "cell_type": "code",
   "execution_count": null,
   "metadata": {},
   "outputs": [],
   "source": [
    "def graphs(data, var):\n",
    "\n",
    "#############################################################################################################    \n",
    "\n",
    "#This is for the second argument passed in the function i.e. variables for which we want to display the charts\n",
    "\n",
    "            l = var               \n",
    "            \n",
    "#############################################################################################################\n",
    "\n",
    "#Take these variables into another dataframe called data_2 and categorise the data as numerical and categorical\n",
    "    \n",
    "            data_2 = data.iloc[:,l]\n",
    "            numerical_data= data_2.select_dtypes(include=[np.number]).columns\n",
    "            categorical_data=data_2.select_dtypes(exclude=[np.number]).columns\n",
    "\n",
    "#############################################################################################################\n",
    "\n",
    "#Generate charts - histogram and boxplot for numerical data and bar plot for categorical data\n",
    "        \n",
    "            for i in numerical_data:\n",
    "                print(i)\n",
    "                plt.hist(data_2[i],color='green')\n",
    "                plt.title(i)\n",
    "                plt.xlabel(i)\n",
    "                plt.ylabel('count')\n",
    "                plt.tight_layout()                             #automatically adjusts subplot params so that the subplot(s) fits in to the figure area\n",
    "                plt.savefig('boxplot_{}.png'.format(i))        #saves the figure in present working directory\n",
    "                plt.show()                                     #opens an interactive window and displays the active image object (of the current column) \n",
    "     \n",
    "                \n",
    "            for j in numerical_data:\n",
    "                print(j)\n",
    "                plt.boxplot(data_2[j])\n",
    "                plt.title(j)\n",
    "                plt.xlabel(j)\n",
    "                plt.ylabel('count')\n",
    "                plt.tight_layout()                             #automatically adjusts subplot params so that the subplot(s) fits in to the figure area\n",
    "                plt.savefig('boxplot_{}.png'.format(j))        #saves the figure in present working directory\n",
    "                plt.show()                                     #opens an interactive window and displays the active image object (of the current column) \n",
    "    \n",
    "                \n",
    "            for k in categorical_data:\n",
    "                print(k)\n",
    "                sns.countplot(data_2[k])\n",
    "                plt.tight_layout()                             #automatically adjusts subplot params so that the subplot(s) fits in to the figure area\n",
    "                plt.savefig('boxplot_{}.png'.format(k))        #saves the figure in present working directory\n",
    "                plt.show()                                     #opens an interactive window and displays the active image object (of the current column) \n",
    "    \n",
    "            "
   ]
  },
  {
   "cell_type": "code",
   "execution_count": null,
   "metadata": {},
   "outputs": [],
   "source": [
    "graphs(df, [1,0,2])"
   ]
  },
  {
   "cell_type": "markdown",
   "metadata": {},
   "source": [
    "# 4\n",
    "\n",
    "Sometimes, we do not want to mess up our working directories with so many image files. Create  an additional argument for the function \"dir\" (directory), such that the function exports all the  files to that specified folder (which need not necessarily be your working directory). (10 marks) \n",
    "\n",
    "Example: \n",
    "\n",
    "Graphs(data, Variable=c(1,3,4), dir=\".../Praxis/Graphs\") \n",
    "-> will generate all the necessary graphics for the variables 1, 3  and 4 in the specified location in your system which is \".../Praxis/ Graphs\"\n"
   ]
  },
  {
   "cell_type": "code",
   "execution_count": null,
   "metadata": {},
   "outputs": [],
   "source": [
    "def graphs(data, var, my_path):\n",
    "\n",
    "#############################################################################################################    \n",
    "\n",
    "#This is for the second argument passed in the function i.e. variables for which we want to display the charts\n",
    "\n",
    "            l = var           \n",
    "            \n",
    "#############################################################################################################\n",
    "\n",
    "#Take these variables into another dataframe called data_2 and categorise the data as numerical and categorical\n",
    "    \n",
    "            data_2 = data.iloc[:,l]\n",
    "            numerical_data= data_2.select_dtypes(include=[np.number]).columns\n",
    "            categorical_data=data_2.select_dtypes(exclude=[np.number]).columns\n",
    "\n",
    "#Check if the folder exists, create if it doesn't\n",
    "\n",
    "            if not os.path.exists(my_path):\n",
    "                print(\"The folder does not exist. We have created the folder.\")\n",
    "                os.makedirs(my_path)\n",
    "\n",
    "#############################################################################################################\n",
    "\n",
    "#Generate charts - histogram and boxplot for numerical data and bar plot for categorical data\n",
    "        \n",
    "        \n",
    "            #for all the numerical data in the dataset and from our selected indexes plot all the histograms\n",
    "            for i in numerical_data:\n",
    "                #print the name of the column\n",
    "                print(i)\n",
    "                #plot the histogram and provide correct labels\n",
    "                plt.hist(data_2[i],color='green')\n",
    "                plt.title(i)\n",
    "                plt.xlabel(i)\n",
    "                plt.ylabel('count')\n",
    "                #save images of each plot in the path entered while using the function\n",
    "                #each image is stored with chart type and column name\n",
    "                plt.savefig(my_path+'Histogram_{}.png'.format(i))\n",
    "                plt.show() \n",
    "                \n",
    "            for j in numerical_data:\n",
    "                print(j)\n",
    "                #plt.hist(df[i],color='green')\n",
    "                plt.boxplot(data_2[i])\n",
    "                plt.title(j)\n",
    "                plt.xlabel(j)\n",
    "                plt.ylabel('count')\n",
    "                plt.savefig(my_path+'Boxplot_{}.png'.format(j))\n",
    "                plt.show() \n",
    "                \n",
    "            for k in categorical_data:\n",
    "                print()\n",
    "                sns.countplot(data_2[k])\n",
    "                plt.savefig(my_path+'Barplot_{}.png'.format(k))\n",
    "                plt.show()\n",
    "\n",
    "#############################################################################################################\n",
    "\n",
    "#save the chart\n",
    "                                    \n",
    "            #last message to show that the program has run and the path of the stored images \n",
    "            print(\"\\nYour file is saved in path: \", my_path)\n",
    "            \n",
    "           "
   ]
  },
  {
   "cell_type": "code",
   "execution_count": null,
   "metadata": {},
   "outputs": [],
   "source": [
    "graphs(df, var = [1,11,10,3,0,19],  my_path = \"C:/Users/HP/Desktop/CHARTS/charts_1/\")"
   ]
  },
  {
   "cell_type": "code",
   "execution_count": null,
   "metadata": {},
   "outputs": [],
   "source": [
    "df.dtypes"
   ]
  },
  {
   "cell_type": "markdown",
   "metadata": {},
   "source": [
    "# 5"
   ]
  },
  {
   "cell_type": "markdown",
   "metadata": {},
   "source": [
    "Further Improvements: Create at least 2 more features of this function which you think can  benefit you in your EDA process. (20 marks) \n"
   ]
  },
  {
   "cell_type": "code",
   "execution_count": null,
   "metadata": {},
   "outputs": [],
   "source": [
    "# FEATURE 1 - It's always good to have everything at one place. Hence, I have created a function that would prompt the \n",
    "# user to input the indexes of the dataset. \n",
    "\n",
    "# FEATURE 2 - The user can view all the columns and their index numbers of the dataset from the function graphs()\n",
    "\n",
    "# FEATURE 3 - If the given path does not exist in the computer then it would be created through our code. \n",
    "\n",
    "# FEATURE 4 - Check missing values\n",
    "\n",
    "\n",
    "def pass_index():                                                                                      #FEATURE 1                                  \n",
    "    \n",
    "            a = ''\n",
    "            index_list = [ ]\n",
    "            print(\"\\nEnter the index of variable that you want to analyse. Enter 'done' to stop the input.\")\n",
    "\n",
    "            while a != \"done\":    \n",
    "                        a = input(\"\\nEnter the index number: \")\n",
    "                        if a != \"done\":\n",
    "                            index_list.append(a)\n",
    "                        else:\n",
    "                            #print(index_list)\n",
    "                            break\n",
    "                        #print(index_list)\n",
    "\n",
    "            for k in range(0, len(index_list)):\n",
    "                        index_list[k] = int(index_list[k])\n",
    "\n",
    "            return(index_list)                \n",
    "                \n",
    "\n",
    "def graphs(data, my_path):\n",
    "    \n",
    "############################################################################################################\n",
    "\n",
    "#print the count of missing values in each variable and the percentage of data that is missing in each variable \n",
    "            total = df.isnull().sum().sort_values(ascending=False)                                   #FEATURE 4\n",
    "            percent = (df.isnull().sum()/df.isnull().count()).sort_values(ascending=False)\n",
    "            missing_data = pd.concat([total, percent], axis=1, keys=['Total', 'Percent'])\n",
    "            print(missing_data)\n",
    "\n",
    "\n",
    "############################################################################################################\n",
    "\n",
    "#prints the column names (variables) and their indexes in the dataset\n",
    "            print(\"\\nPlease view the index of each column for input information:\\n\")                #FEATURE 2\n",
    "            for i in range(0,df.shape[1]):\n",
    "                print(i, \"-\" , df.columns[i])\n",
    "\n",
    "#############################################################################################################    \n",
    "\n",
    "#This is for the second argument passed in the function i.e. variables for which we want to display the charts\n",
    "\n",
    "            \n",
    "            l = pass_index()           \n",
    "            \n",
    "#############################################################################################################\n",
    "\n",
    "#Take these variables into another dataframe called data_2 and categorise the data as numerical and categorical\n",
    "    \n",
    "            data_2 = data.iloc[:,l]\n",
    "            numerical_data= data_2.select_dtypes(include=[np.number]).columns\n",
    "            categorical_data=data_2.select_dtypes(exclude=[np.number]).columns\n",
    "\n",
    "#Check if the folder exists, create if it doesn't.                                                  #FEATURE 3\n",
    "\n",
    "            if not os.path.exists(my_path):                                                         \n",
    "                print(\"The folder does not exist. We have created the folder.\")\n",
    "                os.makedirs(my_path)\n",
    "\n",
    "#############################################################################################################\n",
    "\n",
    "#Generate charts - histogram and boxplot for numerical data and bar plot for categorical data\n",
    "        \n",
    "        \n",
    "            #for all the numerical data in the dataset and from our selected indexes plot all the histograms\n",
    "            for i in numerical_data:\n",
    "                #print the name of the column\n",
    "                print(i)\n",
    "                #plot the histogram and provide correct labels\n",
    "                plt.hist(data_2[i],color='green')\n",
    "                plt.title(i)\n",
    "                plt.xlabel(i)\n",
    "                plt.ylabel('count')\n",
    "                #save images of each plot in the path entered while using the function\n",
    "                #each image is stored with chart type and column name\n",
    "                plt.savefig(my_path+'Histogram_{}.png'.format(i))\n",
    "                plt.show() \n",
    "                \n",
    "            for j in numerical_data:\n",
    "                print(j)\n",
    "                #plt.hist(df[i],color='green')\n",
    "                plt.boxplot(data_2[i])\n",
    "                plt.title(j)\n",
    "                plt.xlabel(j)\n",
    "                plt.ylabel('count')\n",
    "                plt.savefig(my_path+'Boxplot_{}.png'.format(j))\n",
    "                plt.show() \n",
    "                \n",
    "            for k in categorical_data:\n",
    "                print(k)\n",
    "                sns.countplot(data_2[k])\n",
    "                plt.savefig(my_path+'Barplot_{}.png'.format(k))\n",
    "                plt.show()\n",
    "\n",
    "#############################################################################################################\n",
    "\n",
    "#save the chart\n",
    "                                    \n",
    "            #last message to show that the program has run and the path of the stored images \n",
    "            print(\"\\nYour file is saved in path: \", my_path)\n",
    "            print(\"\\n\\n\\n\\n\")\n",
    "\n",
    "           "
   ]
  },
  {
   "cell_type": "code",
   "execution_count": null,
   "metadata": {},
   "outputs": [],
   "source": [
    "graphs(df, my_path = \"C:/Users/HP/Desktop/CHARTS/\")"
   ]
  }
 ],
 "metadata": {
  "kernelspec": {
   "display_name": "Python 3",
   "language": "python",
   "name": "python3"
  },
  "language_info": {
   "codemirror_mode": {
    "name": "ipython",
    "version": 3
   },
   "file_extension": ".py",
   "mimetype": "text/x-python",
   "name": "python",
   "nbconvert_exporter": "python",
   "pygments_lexer": "ipython3",
   "version": "3.8.3"
  }
 },
 "nbformat": 4,
 "nbformat_minor": 4
}
